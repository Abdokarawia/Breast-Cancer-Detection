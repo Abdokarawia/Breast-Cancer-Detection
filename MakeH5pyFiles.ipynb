{
 "cells": [
  {
   "cell_type": "code",
   "execution_count": 217,
   "metadata": {},
   "outputs": [],
   "source": [
    "import h5py\n",
    "from PIL import Image #It is a preferred image manipulation tool. In Python 3,\n",
    "# Pillow python library which is nothing but the upgradation of PIL only.\n",
    "import numpy as np\n",
    "from numpy import asarray\n",
    "import matplotlib.pyplot as plt\n",
    "import os, sys\n",
    "from fns import *\n",
    "import math"
   ]
  },
  {
   "cell_type": "code",
   "execution_count": 55,
   "metadata": {},
   "outputs": [],
   "source": [
    "Train_x_set = np.full((1, 64,64,3), 0)  #Initialize array for images array records"
   ]
  },
  {
   "cell_type": "code",
   "execution_count": 56,
   "metadata": {},
   "outputs": [],
   "source": [
    "Test_x_set = np.full((1, 64,64,3), 0)  #Initialize array for images array records"
   ]
  },
  {
   "cell_type": "code",
   "execution_count": 48,
   "metadata": {},
   "outputs": [],
   "source": [
    "hp_train = h5py.File('Train_Datasets.h5', 'w')   # H5py file for train datsets\n",
    "hp_test = h5py.File('Test_Datasets.h5', 'w')     # H5py file for test datsets"
   ]
  },
  {
   "cell_type": "code",
   "execution_count": 57,
   "metadata": {},
   "outputs": [
    {
     "name": "stdout",
     "output_type": "stream",
     "text": [
      "350\n"
     ]
    }
   ],
   "source": [
    "benign_train_path = \"C:/Users/bahaa/Breast Cancer Project - Copy/Dataset/benign/train_set/\"\n",
    "benign_train = os.listdir(benign_train_path)\n",
    "trainB_y = [1]*len(benign_train)     # Create list of 1 with length of benign_train records\n",
    "classesB = ['Benign']*len(benign_train)     # Create list of benign class with length of benign_train records\n",
    "print(len(benign_train))\n",
    "\n",
    "malignant_train_path = \"C:/Users/bahaa/Breast Cancer Project - Copy/Dataset/malignant/train_set/\"\n",
    "malignant_train = os.listdir(malignant_train_path)\n",
    "trainM_y = [0]*len(malignant_train) # Create list of 0 with length of malignant_train records\n",
    "classesM = ['Malignant']*len(malignant_train)     # Create list of malignant class with length of benign_train records\n",
    "len(malignant_train)\n",
    "\n",
    "Train_y_set = [*trainB_y, *trainM_y]   # astreisk * sign to unpack the list elements\n",
    "classes_train = [*classesB, *classesM]   # astreisk * sign to unpack the list elements\n",
    "\n",
    "ascii_classes_List = [n.encode(\"ascii\", \"ignore\") for n in classes_train]  # Must be encoded as hdf5 cannot \n",
    "# understand normal numpy strings\n"
   ]
  },
  {
   "cell_type": "code",
   "execution_count": 58,
   "metadata": {},
   "outputs": [
    {
     "name": "stdout",
     "output_type": "stream",
     "text": [
      "86\n",
      "50\n"
     ]
    }
   ],
   "source": [
    "benign_test_path = \"C:/Users/bahaa/Breast Cancer Project - Copy/Dataset/benign/test_set/\"\n",
    "benign_test = os.listdir(benign_test_path)\n",
    "trainB_y = [1]*len(benign_test)     # Create list of 1 with length of benign_train records\n",
    "print(len(benign_test))\n",
    "\n",
    "malignant_test_path = \"C:/Users/bahaa/Breast Cancer Project - Copy/Dataset/malignant/test_set/\"\n",
    "malignant_test = os.listdir(malignant_test_path)\n",
    "trainM_y = [0]*len(malignant_test) # Create list of 0 with length of malignant_train records\n",
    "print(len(malignant_test))\n",
    "\n",
    "Test_y_set = [*trainB_y, *trainM_y]   # astreisk * sign to unpack the list elements"
   ]
  },
  {
   "cell_type": "code",
   "execution_count": 59,
   "metadata": {},
   "outputs": [],
   "source": [
    "for item in benign_train:\n",
    "    with Image.open(benign_train_path+item) as im:\n",
    "        img_array = np.array(im)\n",
    "        img_array = img_array[np.newaxis, :,:,:] #Convert 3dim to 4 dim array (records)\n",
    "        Train_x_set = np.append(Train_x_set, img_array, axis = 0)  # axis 3 for the 4rth dim cloumn \n",
    "        im.close()\n",
    "for item in malignant_train:\n",
    "    with Image.open(malignant_train_path+item) as im:\n",
    "        img_array = np.array(im)\n",
    "        img_array = img_array[np.newaxis, :,:,:] #Convert 3dim to 4 dim array (records)\n",
    "        Train_x_set = np.append(Train_x_set, img_array, axis = 0)  # axis 3 for the 4rth dim cloumn \n",
    "        im.close()"
   ]
  },
  {
   "cell_type": "code",
   "execution_count": 60,
   "metadata": {},
   "outputs": [],
   "source": [
    "for item in benign_test:\n",
    "    with Image.open(benign_test_path+item) as im:\n",
    "        img_array = np.array(im)\n",
    "        img_array = img_array[np.newaxis, :,:,:] #Convert 3dim to 4 dim array (records)\n",
    "        Test_x_set = np.append(Test_x_set, img_array, axis = 0)  # axis 3 for the 4rth dim cloumn \n",
    "        im.close()\n",
    "for item in malignant_test:\n",
    "    with Image.open(malignant_test_path+item) as im:\n",
    "        img_array = np.array(im)\n",
    "        img_array = img_array[np.newaxis, :,:,:] #Convert 3dim to 4 dim array (records)\n",
    "        Test_x_set = np.append(Test_x_set, img_array, axis = 0)  # axis 3 for the 4rth dim cloumn \n",
    "        im.close()"
   ]
  },
  {
   "cell_type": "code",
   "execution_count": 61,
   "metadata": {},
   "outputs": [
    {
     "data": {
      "text/plain": [
       "<HDF5 dataset \"Train_x_set\": shape (510, 64, 64, 3), type \"<i4\">"
      ]
     },
     "execution_count": 61,
     "metadata": {},
     "output_type": "execute_result"
    }
   ],
   "source": [
    "hp_train.create_dataset('Train_x_set', data= Train_x_set[1:])  # Create train_x_set dataset in the h5py file\n",
    "# first element is zeros"
   ]
  },
  {
   "cell_type": "code",
   "execution_count": 62,
   "metadata": {},
   "outputs": [
    {
     "data": {
      "text/plain": [
       "<HDF5 dataset \"Test_x_set\": shape (136, 64, 64, 3), type \"<i4\">"
      ]
     },
     "execution_count": 62,
     "metadata": {},
     "output_type": "execute_result"
    }
   ],
   "source": [
    "hp_train.create_dataset('Test_x_set', data= Test_x_set[1:])  # Create train_x_set dataset in the h5py file"
   ]
  },
  {
   "cell_type": "code",
   "execution_count": 63,
   "metadata": {},
   "outputs": [
    {
     "data": {
      "text/plain": [
       "<HDF5 dataset \"Train_y_set\": shape (510,), type \"<i4\">"
      ]
     },
     "execution_count": 63,
     "metadata": {},
     "output_type": "execute_result"
    }
   ],
   "source": [
    "hp_train.create_dataset('Train_y_set', data= Train_y_set)  # Create train_y_set dataset in the h5py file\n"
   ]
  },
  {
   "cell_type": "code",
   "execution_count": 64,
   "metadata": {},
   "outputs": [
    {
     "data": {
      "text/plain": [
       "<HDF5 dataset \"Test_y_set\": shape (136,), type \"<i4\">"
      ]
     },
     "execution_count": 64,
     "metadata": {},
     "output_type": "execute_result"
    }
   ],
   "source": [
    "hp_train.create_dataset('Test_y_set', data= Test_y_set)  # Create train_y_set dataset in the h5py file"
   ]
  },
  {
   "cell_type": "code",
   "execution_count": 65,
   "metadata": {},
   "outputs": [
    {
     "data": {
      "text/plain": [
       "<HDF5 dataset \"classes_train\": shape (510,), type \"|S9\">"
      ]
     },
     "execution_count": 65,
     "metadata": {},
     "output_type": "execute_result"
    }
   ],
   "source": [
    "hp_train.create_dataset('classes_train', data= ascii_classes_List)  # Create train_y_set dataset in the h5py file"
   ]
  },
  {
   "cell_type": "code",
   "execution_count": 66,
   "metadata": {},
   "outputs": [],
   "source": [
    "train_x_orig = np.array(hp_train[\"Train_x_set\"][:])\n",
    "train_set_y = np.array(hp_train[\"Train_y_set\"][:]) \n",
    "classes = np.array(hp_train[\"classes_train\"][:]) # the list of classes\n"
   ]
  },
  {
   "cell_type": "code",
   "execution_count": 67,
   "metadata": {},
   "outputs": [],
   "source": [
    "test_x_orig = np.array(hp_train[\"Test_x_set\"][:])\n",
    "test_set_y = np.array(hp_train[\"Test_y_set\"][:]) "
   ]
  },
  {
   "cell_type": "code",
   "execution_count": 68,
   "metadata": {},
   "outputs": [
    {
     "name": "stdout",
     "output_type": "stream",
     "text": [
      "Number of training examples: 510\n",
      "Each image is of size: (64, 64, 3)\n",
      "train_x_orig shape: (510, 64, 64, 3)\n",
      "train_y shape: (510,)\n"
     ]
    }
   ],
   "source": [
    "# Explore your dataset \n",
    "m_train = train_x_orig.shape[0]\n",
    "num_px = train_x_orig.shape[1]\n",
    "\n",
    "print (\"Number of training examples: \" + str(m_train))\n",
    "print (\"Each image is of size: (\" + str(num_px) + \", \" + str(num_px) + \", 3)\")\n",
    "print (\"train_x_orig shape: \" + str(train_x_orig.shape))\n",
    "print (\"train_y shape: \" + str(train_set_y.shape))\n"
   ]
  },
  {
   "cell_type": "code",
   "execution_count": 69,
   "metadata": {},
   "outputs": [
    {
     "name": "stdout",
     "output_type": "stream",
     "text": [
      "Number of test examples: 136\n",
      "Each image is of size: (136, 136, 3)\n",
      "test_x_orig shape: (136, 64, 64, 3)\n",
      "test_y shape: (136,)\n"
     ]
    }
   ],
   "source": [
    "# Explore your dataset \n",
    "m_test = test_x_orig.shape[0]\n",
    "num_px = test_set_y.shape[0]\n",
    "\n",
    "print (\"Number of test examples: \" + str(m_test))\n",
    "print (\"Each image is of size: (\" + str(num_px) + \", \" + str(num_px) + \", 3)\")\n",
    "print (\"test_x_orig shape: \" + str(test_x_orig.shape))\n",
    "print (\"test_y shape: \" + str(test_set_y.shape))\n"
   ]
  },
  {
   "cell_type": "code",
   "execution_count": 70,
   "metadata": {},
   "outputs": [
    {
     "name": "stdout",
     "output_type": "stream",
     "text": [
      "y = 1. It's a Benign picture.\n"
     ]
    },
    {
     "data": {
      "image/png": "[encoded data removed]",
      "text/plain": [
       "<Figure size 432x288 with 1 Axes>"
      ]
     },
     "metadata": {
      "needs_background": "light"
     },
     "output_type": "display_data"
    }
   ],
   "source": [
    "# Example of a picture\n",
    "index = 100\n",
    "plt.imshow(train_x_orig[index])\n",
    "print (\"y = \" + str(train_set_y[index]) + \". It's a \" + classes[index].decode(\"ascii\") +  \" picture.\")"
   ]
  },
  {
   "cell_type": "code",
   "execution_count": 71,
   "metadata": {},
   "outputs": [
    {
     "name": "stdout",
     "output_type": "stream",
     "text": [
      "train_x's shape: (12288, 510)\n"
     ]
    }
   ],
   "source": [
    "# Reshape the training and test examples \n",
    "train_x_flatten = train_x_orig.reshape(train_x_orig.shape[0], -1).T   # The \"-1\" makes reshape flatten the remaining dimensions\n",
    "#test_x_flatten = test_x_orig.reshape(test_x_orig.shape[0], -1).T\n",
    "\n",
    "# Standardize data to have feature values between 0 and 1.\n",
    "train_x = train_x_flatten/255.\n",
    "#test_x = test_x_flatten/255.\n",
    "\n",
    "print (\"train_x's shape: \" + str(train_x.shape))\n",
    "#print (\"test_x's shape: \" + str(test_x.shape))"
   ]
  },
  {
   "cell_type": "code",
   "execution_count": 72,
   "metadata": {},
   "outputs": [
    {
     "name": "stdout",
     "output_type": "stream",
     "text": [
      "test_x's shape: (12288, 136)\n"
     ]
    }
   ],
   "source": [
    "test_x_flatten = test_x_orig.reshape(test_x_orig.shape[0], -1).T\n",
    "test_x = test_x_flatten/255\n",
    "print (\"test_x's shape: \" + str(test_x.shape))"
   ]
  },
  {
   "cell_type": "code",
   "execution_count": 73,
   "metadata": {},
   "outputs": [],
   "source": [
    "### CONSTANTS DEFINING THE MODEL ####\n",
    "n_x = 12288     # num_px * num_px * 3\n",
    "n_h = 7\n",
    "n_y = 1\n",
    "layers_dims = (n_x, n_h, n_y)\n",
    "learning_rate = 0.0075"
   ]
  },
  {
   "cell_type": "code",
   "execution_count": 78,
   "metadata": {},
   "outputs": [
    {
     "name": "stdout",
     "output_type": "stream",
     "text": [
      "Cost after iteration 0: 0.6937720172704778\n",
      "Cost after iteration 100: 0.6061412388556161\n",
      "Cost after iteration 200: 0.5635613307882462\n",
      "Cost after iteration 300: 0.5266591043515461\n",
      "Cost after iteration 400: 0.502841030102258\n",
      "Cost after iteration 500: 0.4809288869727276\n",
      "Cost after iteration 600: 0.45933522941426824\n",
      "Cost after iteration 700: 0.4394168628350028\n",
      "Cost after iteration 800: 0.42085838385804225\n",
      "Cost after iteration 900: 0.4030095092885657\n",
      "Cost after iteration 1000: 0.38604841047531674\n",
      "Cost after iteration 1100: 0.3699685965774573\n",
      "Cost after iteration 1200: 0.3545027796842247\n",
      "Cost after iteration 1300: 0.3397860035554665\n",
      "Cost after iteration 1400: 0.32629395443327247\n",
      "Cost after iteration 1500: 0.3105448275384703\n",
      "Cost after iteration 1600: 0.2987292469448815\n",
      "Cost after iteration 1700: 0.2861777834199858\n",
      "Cost after iteration 1800: 0.2805969886425527\n",
      "Cost after iteration 1900: 0.27130407597780254\n",
      "Cost after iteration 1999: 0.24853636188149403\n"
     ]
    }
   ],
   "source": [
    "\n",
    "X = train_x\n",
    "Y = train_set_y\n",
    "num_iterations = 2000\n",
    "print_cost=True\n",
    "\n",
    "np.random.seed(1)\n",
    "grads = {}\n",
    "costs = []                              # to keep track of the cost\n",
    "m = X.shape[1]                           # number of examples\n",
    "(n_x, n_h, n_y) = layers_dims\n",
    "\n",
    "# Initialize parameters dictionary, by calling one of the functions you'd previously implemented\n",
    "#(≈ 1 line of code)\n",
    "# parameters = ...\n",
    "# YOUR CODE STARTS HERE\n",
    "parameters = initialize_parameters(n_x, n_h, n_y)\n",
    "# YOUR CODE ENDS HERE\n",
    "\n",
    "# Get W1, b1, W2 and b2 from the dictionary parameters.\n",
    "W1 = parameters[\"W1\"]\n",
    "b1 = parameters[\"b1\"]\n",
    "W2 = parameters[\"W2\"]\n",
    "b2 = parameters[\"b2\"]\n",
    "\n",
    "# Loop (gradient descent)\n",
    "\n",
    "for i in range(0, num_iterations):\n",
    "\n",
    "    # Forward propagation: LINEAR -> RELU -> LINEAR -> SIGMOID. Inputs: \"X, W1, b1, W2, b2\". Output: \"A1, cache1, A2, cache2\".\n",
    "    #(≈ 2 lines of code)\n",
    "    # A1, cache1 = ...\n",
    "    # A2, cache2 = ...\n",
    "    # YOUR CODE STARTS HERE\n",
    "    A1, cache1 = linear_activation_forward(X, W1, b1, \"relu\")\n",
    "    A2, cache2 = linear_activation_forward(A1, W2, b2, \"sigmoid\")\n",
    "    # YOUR CODE ENDS HERE\n",
    "\n",
    "    # Compute cost\n",
    "    #(≈ 1 line of code)\n",
    "    # cost = ...\n",
    "    # YOUR CODE STARTS HERE\n",
    "    m = Y.shape[0]\n",
    "\n",
    "    # Compute loss from aL and y.\n",
    "    cost = (1./m) * (-np.dot(Y,np.log(A2).T) - np.dot(1-Y, np.log(1-A2).T))\n",
    "\n",
    "    cost = np.squeeze(cost)      # To make sure your cost's shape is what we expect (e.g. this turns [[17]] into 17).\n",
    "    assert(cost.shape == ())\n",
    "\n",
    "    # YOUR CODE ENDS HERE\n",
    "\n",
    "    # Initializing backward propagation\n",
    "    dA2 = - (np.divide(Y, A2) - np.divide(1 - Y, 1 - A2))\n",
    "\n",
    "    # Backward propagation. Inputs: \"dA2, cache2, cache1\". Outputs: \"dA1, dW2, db2; also dA0 (not used), dW1, db1\".\n",
    "    #(≈ 2 lines of code)\n",
    "    # dA1, dW2, db2 = ...\n",
    "    # dA0, dW1, db1 = ...\n",
    "    # YOUR CODE STARTS HERE\n",
    "    dA1, dW2, db2 = linear_activation_backward(dA2, cache2, \"sigmoid\")\n",
    "    dA0, dW1, db1 = linear_activation_backward(dA1, cache1, \"relu\")\n",
    "    # YOUR CODE ENDS HERE\n",
    "\n",
    "    # Set grads['dWl'] to dW1, grads['db1'] to db1, grads['dW2'] to dW2, grads['db2'] to db2\n",
    "    grads['dW1'] = dW1\n",
    "    grads['db1'] = db1\n",
    "    grads['dW2'] = dW2\n",
    "    grads['db2'] = db2\n",
    "\n",
    "    # Update parameters.\n",
    "    #(approx. 1 line of code)\n",
    "    parameters = update_parameters(parameters, grads, learning_rate)\n",
    "    # YOUR CODE STARTS HERE\n",
    "\n",
    "\n",
    "    # YOUR CODE ENDS HERE\n",
    "\n",
    "    # Retrieve W1, b1, W2, b2 from parameters\n",
    "    W1 = parameters[\"W1\"]\n",
    "    b1 = parameters[\"b1\"]\n",
    "    W2 = parameters[\"W2\"]\n",
    "    b2 = parameters[\"b2\"]\n",
    "\n",
    "    # Print the cost every 100 iterations\n",
    "    if print_cost and i % 100 == 0 or i == num_iterations - 1:\n",
    "        print(\"Cost after iteration {}: {}\".format(i, np.squeeze(cost)))\n",
    "    if i % 100 == 0 or i == num_iterations:\n",
    "        costs.append(cost)\n",
    "\n"
   ]
  },
  {
   "cell_type": "code",
   "execution_count": 79,
   "metadata": {},
   "outputs": [],
   "source": [
    "#plot_costs(costs, learning_rate)"
   ]
  },
  {
   "cell_type": "code",
   "execution_count": 80,
   "metadata": {},
   "outputs": [
    {
     "name": "stdout",
     "output_type": "stream",
     "text": [
      "Accuracy: 0.9490196078431372\n"
     ]
    }
   ],
   "source": [
    "predictions_train = predict(train_x, train_set_y, parameters)"
   ]
  },
  {
   "cell_type": "code",
   "execution_count": 81,
   "metadata": {},
   "outputs": [
    {
     "name": "stdout",
     "output_type": "stream",
     "text": [
      "Accuracy: 0.6838235294117647\n"
     ]
    }
   ],
   "source": [
    "predictions_test = predict(test_x, test_set_y, parameters)"
   ]
  },
  {
   "cell_type": "code",
   "execution_count": 182,
   "metadata": {},
   "outputs": [],
   "source": [
    "layers_dims = [12288, 6, 3, 1] #  4-layer model"
   ]
  },
  {
   "cell_type": "code",
   "execution_count": 224,
   "metadata": {},
   "outputs": [],
   "source": [
    "def initialize_parameters_he(layers_dims):\n",
    "    \"\"\"\n",
    "    Arguments:\n",
    "    layer_dims -- python array (list) containing the size of each layer.\n",
    "    \n",
    "    Returns:\n",
    "    parameters -- python dictionary containing your parameters \"W1\", \"b1\", ..., \"WL\", \"bL\":\n",
    "                    W1 -- weight matrix of shape (layers_dims[1], layers_dims[0])\n",
    "                    b1 -- bias vector of shape (layers_dims[1], 1)\n",
    "                    ...\n",
    "                    WL -- weight matrix of shape (layers_dims[L], layers_dims[L-1])\n",
    "                    bL -- bias vector of shape (layers_dims[L], 1)\n",
    "    \"\"\"\n",
    "    \n",
    "    np.random.seed(3)\n",
    "    parameters = {}\n",
    "    L = len(layers_dims) - 1 # integer representing the number of layers\n",
    "    for l in range(1, L + 1):\n",
    "        ### START CODE HERE ### (≈ 2 lines of code)\n",
    "        parameters['W' + str(l)] = np.random.randn(layers_dims[l], layers_dims[l-1])*math.sqrt(2./layers_dims[l-1])\n",
    "        parameters['b' + str(l)] = np.zeros((layers_dims[l], 1))*math.sqrt(2./layers_dims[l-1])\n",
    "        ### END CODE HERE ###\n",
    "    return parameters"
   ]
  },
  {
   "cell_type": "code",
   "execution_count": 227,
   "metadata": {},
   "outputs": [],
   "source": [
    "# GRADED FUNCTION: L_layer_model\n",
    "\n",
    "def L_layer_model(X, Y, layers_dims, learning_rate = 0.0075, num_iterations = 3000, print_cost=False):\n",
    "    \"\"\"\n",
    "    Implements a L-layer neural network: [LINEAR->RELU]*(L-1)->LINEAR->SIGMOID.\n",
    "    \n",
    "    Arguments:\n",
    "    X -- data, numpy array of shape (num_px * num_px * 3, number of examples)\n",
    "    Y -- true \"label\" vector (containing 0 if cat, 1 if non-cat), of shape (1, number of examples)\n",
    "    layers_dims -- list containing the input size and each layer size, of length (number of layers + 1).\n",
    "    learning_rate -- learning rate of the gradient descent update rule\n",
    "    num_iterations -- number of iterations of the optimization loop\n",
    "    print_cost -- if True, it prints the cost every 100 steps\n",
    "    \n",
    "    Returns:\n",
    "    parameters -- parameters learnt by the model. They can then be used to predict.\n",
    "    \"\"\"\n",
    "\n",
    "    np.random.seed(1)\n",
    "    costs = []                         # keep track of cost\n",
    "    \n",
    "    # Parameters initialization.\n",
    "    #(≈ 1 line of code)\n",
    "    # parameters = ...\n",
    "    # YOUR CODE STARTS HERE\n",
    "    parameters = initialize_parameters_he(layers_dims)\n",
    "    \n",
    "    # YOUR CODE ENDS HERE\n",
    "    \n",
    "    # Loop (gradient descent)\n",
    "    for i in range(0, num_iterations):\n",
    "\n",
    "        # Forward propagation: [LINEAR -> RELU]*(L-1) -> LINEAR -> SIGMOID.\n",
    "        #(≈ 1 line of code)\n",
    "        # AL, caches = ...\n",
    "        # YOUR CODE STARTS HERE\n",
    "        AL, caches = L_model_forward(X, parameters)\n",
    "        \n",
    "        # YOUR CODE ENDS HERE\n",
    "        \n",
    "        # Compute cost.\n",
    "        #(≈ 1 line of code)\n",
    "        # cost = ...\n",
    "        # YOUR CODE STARTS HERE\n",
    "        m = Y.shape[0]\n",
    "\n",
    "        # Compute loss from aL and y.\n",
    "        cost = (1./m) * (-np.dot(Y,np.log(AL).T) - np.dot(1-Y, np.log(1-AL).T))\n",
    "\n",
    "        cost = np.squeeze(cost)      # To make sure your cost's shape is what we expect (e.g. this turns [[17]] into 17).\n",
    "\n",
    "        \n",
    "        # YOUR CODE ENDS HERE\n",
    "    \n",
    "        # Backward propagation.\n",
    "        #(≈ 1 line of code)\n",
    "        # grads = ...    \n",
    "        # YOUR CODE STARTS HERE\n",
    "        grads = L_model_backward(AL, Y, caches)\n",
    "        \n",
    "        # YOUR CODE ENDS HERE\n",
    " \n",
    "        # Update parameters.\n",
    "        #(≈ 1 line of code)\n",
    "        # parameters = ...\n",
    "        # YOUR CODE STARTS HERE\n",
    "        parameters = update_parameters(parameters, grads, learning_rate)\n",
    "        \n",
    "        # YOUR CODE ENDS HERE\n",
    "                \n",
    "        # Print the cost every 100 iterations\n",
    "        if print_cost and i % 100 == 0 or i == num_iterations - 1:\n",
    "            print(\"Cost after iteration {}: {}\".format(i, np.squeeze(cost)))\n",
    "        if i % 100 == 0 or i == num_iterations:\n",
    "            costs.append(cost)\n",
    "    \n",
    "    return parameters, costs, grads"
   ]
  },
  {
   "cell_type": "code",
   "execution_count": null,
   "metadata": {},
   "outputs": [],
   "source": []
  },
  {
   "cell_type": "code",
   "execution_count": 234,
   "metadata": {},
   "outputs": [
    {
     "name": "stdout",
     "output_type": "stream",
     "text": [
      "Cost after iteration 0: 0.6788519724388314\n",
      "Cost after iteration 100: 0.5604216505946635\n",
      "Cost after iteration 200: 0.5245791854856324\n",
      "Cost after iteration 300: 0.5006437730323248\n",
      "Cost after iteration 400: 0.47785498587141484\n",
      "Cost after iteration 500: 0.4554407836949669\n",
      "Cost after iteration 600: 0.4333888983365238\n",
      "Cost after iteration 700: 0.4111703130050637\n",
      "Cost after iteration 800: 0.38960621161138587\n",
      "Cost after iteration 900: 0.3700639217531502\n",
      "Cost after iteration 1000: 0.3496855571510085\n",
      "Cost after iteration 1100: 0.346274641880317\n",
      "Cost after iteration 1200: 0.3394123497380753\n",
      "Cost after iteration 1300: 0.29954218992485576\n",
      "Cost after iteration 1400: 0.29519962147278866\n",
      "Cost after iteration 1500: 0.2917746188499801\n",
      "Cost after iteration 1600: 0.30814119602501844\n",
      "Cost after iteration 1700: 0.25203345545289824\n",
      "Cost after iteration 1800: 0.24868428763594566\n",
      "Cost after iteration 1900: 0.24707982583284144\n",
      "Cost after iteration 1999: 0.2289134917624828\n"
     ]
    }
   ],
   "source": [
    "parameters, costs, grads = L_layer_model(train_x, train_set_y, layers_dims, num_iterations = 2000, print_cost = True)"
   ]
  },
  {
   "cell_type": "code",
   "execution_count": 312,
   "metadata": {},
   "outputs": [
    {
     "data": {
      "image/png": "[encoded data removed]",
      "text/plain": [
       "<Figure size 432x288 with 1 Axes>"
      ]
     },
     "metadata": {
      "needs_background": "light"
     },
     "output_type": "display_data"
    }
   ],
   "source": [
    "plot_costs(costs, learning_rate)"
   ]
  },
  {
   "cell_type": "code",
   "execution_count": 235,
   "metadata": {},
   "outputs": [
    {
     "name": "stdout",
     "output_type": "stream",
     "text": [
      "Accuracy: 0.9078431372549018\n"
     ]
    }
   ],
   "source": [
    "pred_train = predict(train_x, train_set_y, parameters)"
   ]
  },
  {
   "cell_type": "code",
   "execution_count": 236,
   "metadata": {},
   "outputs": [
    {
     "name": "stdout",
     "output_type": "stream",
     "text": [
      "Accuracy: 0.7573529411764706\n"
     ]
    }
   ],
   "source": [
    "pred_test = predict(test_x, test_set_y, parameters)"
   ]
  },
  {
   "cell_type": "code",
   "execution_count": 160,
   "metadata": {},
   "outputs": [],
   "source": []
  },
  {
   "cell_type": "code",
   "execution_count": 161,
   "metadata": {},
   "outputs": [],
   "source": []
  },
  {
   "cell_type": "code",
   "execution_count": null,
   "metadata": {},
   "outputs": [],
   "source": []
  },
  {
   "cell_type": "code",
   "execution_count": null,
   "metadata": {},
   "outputs": [],
   "source": []
  },
  {
   "cell_type": "code",
   "execution_count": null,
   "metadata": {},
   "outputs": [],
   "source": []
  },
  {
   "cell_type": "code",
   "execution_count": null,
   "metadata": {},
   "outputs": [],
   "source": []
  }
 ],
 "metadata": {
  "kernelspec": {
   "display_name": "Python 3",
   "language": "python",
   "name": "python3"
  },
  "language_info": {
   "codemirror_mode": {
    "name": "ipython",
    "version": 3
   },
   "file_extension": ".py",
   "mimetype": "text/x-python",
   "name": "python",
   "nbconvert_exporter": "python",
   "pygments_lexer": "ipython3",
   "version": "3.7.1"
  }
 },
 "nbformat": 4,
 "nbformat_minor": 2
}
