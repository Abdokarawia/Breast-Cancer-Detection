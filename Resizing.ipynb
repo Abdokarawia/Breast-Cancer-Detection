{
 "cells": [
  {
   "cell_type": "code",
   "execution_count": 1,
   "metadata": {},
   "outputs": [],
   "source": [
    "import h5py\n",
    "from PIL import Image #It is a preferred image manipulation tool. In Python 3,\n",
    "# Pillow python library which is nothing but the upgradation of PIL only.\n",
    "import numpy as np\n",
    "from numpy import asarray\n",
    "import matplotlib.pyplot as plt\n",
    "import os, sys"
   ]
  },
  {
   "cell_type": "code",
   "execution_count": 2,
   "metadata": {},
   "outputs": [
    {
     "data": {
      "text/plain": [
       "50"
      ]
     },
     "execution_count": 2,
     "metadata": {},
     "output_type": "execute_result"
    }
   ],
   "source": [
    "benign_train_path = \"C:/Users/bahaa/Breast Cancer Project - Copy/Dataset/benign/train_set/\"\n",
    "benign_train = os.listdir(benign_train_path)\n",
    "len(benign_train)\n",
    "\n",
    "benign_test_path = \"C:/Users/bahaa/Breast Cancer Project - Copy/Dataset/benign/test_set/\"\n",
    "benign_test = os.listdir(benign_test_path)\n",
    "len(benign_test)\n",
    "\n",
    "malignant_train_path = \"C:/Users/bahaa/Breast Cancer Project - Copy/Dataset/malignant/train_set/\"\n",
    "malignant_train = os.listdir(malignant_train_path)\n",
    "len(malignant_train)\n",
    "\n",
    "malignant_test_path = \"C:/Users/bahaa/Breast Cancer Project - Copy/Dataset/malignant/test_set/\"\n",
    "malignant_test = os.listdir(malignant_test_path)\n",
    "len(malignant_test)"
   ]
  },
  {
   "cell_type": "code",
   "execution_count": 8,
   "metadata": {},
   "outputs": [],
   "source": [
    "def resize(list_resize, path):\n",
    "    for item in list_resize:\n",
    "        if os.path.isfile(path+item):\n",
    "            with Image.open(path+item) as im:\n",
    "                f, e = os.path.splitext(path+item)\n",
    "                imResize = im.resize((64,64), Image.ANTIALIAS)\n",
    "                imResize.save(f + 'resized.jpg', 'JPEG', quality=100)\n",
    "                im.close()"
   ]
  },
  {
   "cell_type": "code",
   "execution_count": 9,
   "metadata": {},
   "outputs": [],
   "source": [
    "resize(benign_train, benign_train_path)"
   ]
  },
  {
   "cell_type": "code",
   "execution_count": 10,
   "metadata": {},
   "outputs": [],
   "source": [
    "resize(benign_test, benign_test_path)"
   ]
  },
  {
   "cell_type": "code",
   "execution_count": 11,
   "metadata": {},
   "outputs": [],
   "source": [
    "resize(malignant_train, malignant_train_path)"
   ]
  },
  {
   "cell_type": "code",
   "execution_count": 12,
   "metadata": {},
   "outputs": [],
   "source": [
    "resize(malignant_test, malignant_test_path)"
   ]
  },
  {
   "cell_type": "code",
   "execution_count": null,
   "metadata": {},
   "outputs": [],
   "source": []
  },
  {
   "cell_type": "code",
   "execution_count": null,
   "metadata": {},
   "outputs": [],
   "source": []
  }
 ],
 "metadata": {
  "kernelspec": {
   "display_name": "Python 3",
   "language": "python",
   "name": "python3"
  },
  "language_info": {
   "codemirror_mode": {
    "name": "ipython",
    "version": 3
   },
   "file_extension": ".py",
   "mimetype": "text/x-python",
   "name": "python",
   "nbconvert_exporter": "python",
   "pygments_lexer": "ipython3",
   "version": "3.7.1"
  }
 },
 "nbformat": 4,
 "nbformat_minor": 2
}
